{
 "cells": [
  {
   "cell_type": "code",
   "execution_count": null,
   "metadata": {},
   "outputs": [],
   "source": [
    "#En este ejercicio de pair programming crearemos una clase. Imaginemos que nuestro jefe nos pide que creemos una clase para tener más ordenada la información sobre cada uno de los empleados de la empresa. Para ello:\n",
    "# Definid una clase que se llame Empleados\n",
    "#Definid los siguientes atributos que caracterizan a nuestros empleados:\n",
    "#nombre\n",
    "#apellido\n",
    "#edad\n",
    "#posición que ocupa en la empresa\n",
    "#año en que entró en la empresa\n",
    "#número de días de vacaciones que tiene\n",
    "#Las herramientas que usa cada uno de ellos, por ejemplo, Outlook, excel y word. Deberá ser una lista.\n",
    "#Cread una instancia para la clase creada\n",
    "#Definid los siguientes métodos:\n",
    "#descripción\n",
    "#calculo_vacaciones\n",
    "#cambiando_posicion"
   ]
  },
  {
   "cell_type": "code",
   "execution_count": 51,
   "metadata": {},
   "outputs": [],
   "source": [
    "class Empleados:  #Definimos el constructor de la clase empleados para poder utilizar los parámetros en funciones posteriores. \n",
    "    def __init__(self, nombre, apellido, edad, posicion_en_empresa, año_entrada, dias_total_vacaciones, herramientas_trabajo):\n",
    "        self.nombre=nombre.upper()\n",
    "        self.apellido=apellido\n",
    "        self.edad=edad\n",
    "        self.posicion_en_empresa=posicion_en_empresa\n",
    "        self.año_entrada=año_entrada\n",
    "        self.dias_total_vacaciones=dias_total_vacaciones\n",
    "        self.herramientas_trabajo=[]\n",
    "        for herramientas in herramientas_trabajo:\n",
    "            self.herramientas_trabajo.append(herramientas.lower()) #dentro del constructor modificamos para que los datos de entrada puedan ser en mayúsculas o minúsculas y lo siga detectando\n",
    "        \n",
    "    def descripcion(self):\n",
    "        return f\"Él/ella, es {self.nombre}{self.apellido}, es Data Analyst, quien lleva con nostros en la empresa desde {self.año_entrada}. Además este año le quedan {self.dias_total_vacaciones} dias de vacaciones\"\n",
    "    def calculo_vacaciones(self):\n",
    "        vacaciones_input=int(input(\"Cuántos días te has ido de vacaciones este año\"))\n",
    "        input_deseo_vacaciones=int(input(\"¿Cuántos días te quieres ir\"))\n",
    "        dias_total_vacaciones=self.dias_total_vacaciones #revisar\n",
    "        if dias_total_vacaciones - vacaciones_input == 0:\n",
    "            return \"Ya no te quedan vacaciones\"\n",
    "        elif (dias_total_vacaciones - vacaciones_input) > input_deseo_vacaciones :\n",
    "            return \"No te quedan tantos días de vacaciones para poder irte\"\n",
    "        else:\n",
    "            return f\"Te quedan {dias_total_vacaciones - vacaciones_input} días de vacaciones\"\n",
    "    def herramientas(self):\n",
    "        \n",
    "        if \"python\" in self.herramientas_trabajo:\n",
    "            return \"Bien hecho!\"\n",
    "        elif \"excel\" in self.herramientas_trabajo:\n",
    "            return \"Deberías empezar a usar Python\"\n",
    "            \n",
    "        \n",
    "\n",
    "       "
   ]
  },
  {
   "cell_type": "code",
   "execution_count": null,
   "metadata": {},
   "outputs": [],
   "source": [
    "#Método descripcion:\n",
    "#El return deberá ser un string en el que aparezca el nombre, apellidos, \n",
    "# los años que lleva en la empresa y los días de vacaciones que le quedan. Este método deberá devolver algo como esto:\n",
    "\"El/ella, es Lorena, Data Analyst, quien lleva con nostros en la empresa desde 2000. Además este año le quedan 15 dias de vacaciones\"\n"
   ]
  },
  {
   "cell_type": "code",
   "execution_count": 50,
   "metadata": {},
   "outputs": [],
   "source": [
    "Diana=Empleados(\"Diana\",\" Romero\",27,\"Data Analyst\",2000, 30, [\"Excel\", \"Office\"])\n"
   ]
  },
  {
   "cell_type": "code",
   "execution_count": 15,
   "metadata": {},
   "outputs": [
    {
     "data": {
      "text/plain": [
       "'Él/ella, es Diana Romero, es Data Analyst, quien lleva con nostros en la empresa desde 2000. Además este año le quedan 30 dias de vacaciones'"
      ]
     },
     "execution_count": 15,
     "metadata": {},
     "output_type": "execute_result"
    }
   ],
   "source": [
    "Diana.descripcion()"
   ]
  },
  {
   "cell_type": "code",
   "execution_count": null,
   "metadata": {},
   "outputs": [],
   "source": [
    "#Método calculo_vacaciones:\n",
    "#Deberá contener input que nos pregunte cuántos días se fue determinada persona de vacaciones.\n",
    "#Luego deberemos restar el número de días que se fue de vacaciones a el número total de vacaciones que tiene ese empleado.\n",
    "#Una condición que chequee si:\n",
    "#Si el numero de vacaciones que tiene el empleado es igual a 0, devolved un mensaje que diga que se le acabaron las vacaciones\n",
    "#Si el número de días que se quiere ir de vacaciones es mayor que el número de vacaciones que le quedan, devolved un mensaje que diga que no se puede ir tantos de vacaciones\n",
    "#En caso de que no se cumplan ninguna de estas condiciones, que nos devuelva el número de vacaciones que le quedan al empleado."
   ]
  },
  {
   "cell_type": "code",
   "execution_count": 4,
   "metadata": {},
   "outputs": [
    {
     "data": {
      "text/plain": [
       "'No te quedan tantos días de vacaciones para poder irte'"
      ]
     },
     "execution_count": 4,
     "metadata": {},
     "output_type": "execute_result"
    }
   ],
   "source": [
    "Diana.calculo_vacaciones()"
   ]
  },
  {
   "cell_type": "code",
   "execution_count": 41,
   "metadata": {},
   "outputs": [],
   "source": [
    "# Método cambiando_posicion:\n",
    "    # Iteraremos por la lista de herramientas que usa el empleado:\n",
    "        # Si el empleado usa \"Python\" devolveremos un mensaje de bien hecho!\n",
    "        # Si el empleado usa \"Excel\" le recomendaremos amigablemente que deje excel y empiece a usar Excel"
   ]
  },
  {
   "cell_type": "code",
   "execution_count": 52,
   "metadata": {},
   "outputs": [
    {
     "data": {
      "text/plain": [
       "'Deberías empezar a usar Python'"
      ]
     },
     "execution_count": 52,
     "metadata": {},
     "output_type": "execute_result"
    }
   ],
   "source": [
    "Diana.herramientas()"
   ]
  }
 ],
 "metadata": {
  "kernelspec": {
   "display_name": "Python 3.8.9 64-bit",
   "language": "python",
   "name": "python3"
  },
  "language_info": {
   "codemirror_mode": {
    "name": "ipython",
    "version": 3
   },
   "file_extension": ".py",
   "mimetype": "text/x-python",
   "name": "python",
   "nbconvert_exporter": "python",
   "pygments_lexer": "ipython3",
   "version": "3.8.9"
  },
  "orig_nbformat": 4,
  "vscode": {
   "interpreter": {
    "hash": "31f2aee4e71d21fbe5cf8b01ff0e069b9275f58929596ceb00d14d90e3e16cd6"
   }
  }
 },
 "nbformat": 4,
 "nbformat_minor": 2
}
