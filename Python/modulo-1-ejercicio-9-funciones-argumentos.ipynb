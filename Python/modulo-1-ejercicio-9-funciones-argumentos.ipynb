{
 "cells": [
  {
   "cell_type": "code",
   "execution_count": null,
   "metadata": {},
   "outputs": [],
   "source": [
    "#Vamos a crear una \"Calculadora de puntos\". Tenéis que escribir una calculadora que reciba cadenas de caracteres como entrada.\n",
    "# Los puntos representarán el número de la ecuación. \n",
    "# Habrá puntos en un lado, un operador, y puntos de nuevo después del oparador. \n",
    "# Los puntos y el operador estarán separados por un espacio.\n",
    "#Aquí os dejamos los operadores válidos:\n",
    "#Suma\n",
    "#Resta\n",
    "#Multiplicación\n",
    "#División entera\n",
    "#Vuestro trabajo\n",
    "#Tendréis que devolver un string que contenga puntos, tantos como devuelva la ecuación.\n",
    "# Si el resultado es 0, devuelve la cadena vacía. Cuando se trata de una resta, \n",
    "# el primer número siempre será mayor o igual que el segundo."
   ]
  },
  {
   "cell_type": "code",
   "execution_count": null,
   "metadata": {},
   "outputs": [],
   "source": [
    "#Probad la función con los siguientes casos: \n",
    "\n",
    "\"..... + ...............\" => \"....................\"\n",
    "\"..... - ...\" => \"..\"\n",
    "\"..... * ...\" => \"...............\"\n",
    "\"..... // ..\" => \"..\"\n",
    "\". // ..\" => \"\"\n",
    "\".. - ..\" => \"\""
   ]
  },
  {
   "cell_type": "code",
   "execution_count": 46,
   "metadata": {},
   "outputs": [],
   "source": [
    "def calculadora(puntos):\n",
    "    lista_puntos= puntos.split(\" \")             #separamos el string por los espacios para poder tener los 3 elementos por separado\n",
    "    if lista_puntos[1]== \"+\":                   #usamos la posición 1 que es el operador \n",
    "        resultado= len(lista_puntos[0])+len(lista_puntos[2]) #usamos un contador para que lo podamos usar como número y así poder sumarlo\n",
    "    elif lista_puntos[1]== \"-\":                             \n",
    "        resultado= len(lista_puntos[0])-len(lista_puntos[2])\n",
    "    elif lista_puntos[1]== \"*\":\n",
    "        resultado= len(lista_puntos[0])*len(lista_puntos[2])\n",
    "    elif lista_puntos[1]== \"//\":\n",
    "        resultado= len(lista_puntos[0])//len(lista_puntos[2])\n",
    "    return  \".\"*resultado                           #como convertimos el string a \"numero\", al final queremos que nos devuelva el resultado multiplicado por \".\"\n",
    "                                                    #para poder tener el resultado en \"puntos\"\n",
    "        \n",
    "    "
   ]
  },
  {
   "cell_type": "code",
   "execution_count": 47,
   "metadata": {},
   "outputs": [
    {
     "data": {
      "text/plain": [
       "'..'"
      ]
     },
     "execution_count": 47,
     "metadata": {},
     "output_type": "execute_result"
    }
   ],
   "source": [
    "calculadora(\"..... - ...\")"
   ]
  },
  {
   "cell_type": "code",
   "execution_count": null,
   "metadata": {},
   "outputs": [],
   "source": [
    "#2\n",
    "# Te despides de tu mejor amigo, \"Nos vemos el próximo año\". \n",
    "# Vuestro trabajo: Dado un año, encuentra el próximo cumpleaños o el año más cercano en el que verás a tu mejor amigo.\n",
    "#Condiciones\n",
    "#Año siempre positivo.\n",
    "#El siguiente año que le felicites a tu mejor amigo no puede tener ningún dígito repetido."
   ]
  },
  {
   "cell_type": "code",
   "execution_count": null,
   "metadata": {},
   "outputs": [],
   "source": [
    "#Probad la función con los siguientes casos:\n",
    "\n",
    "7712 ==> El siguiente año que felicitarás a tu amigo será el 7801. \n",
    "Por que es el siguiente año en el que no hay ninguún dígito repetido. \n",
    "\n",
    "\n",
    "1001 => 1023 \n",
    "\n",
    "1123 => 1203\n",
    "\n",
    "2001 => 2013"
   ]
  },
  {
   "cell_type": "code",
   "execution_count": 3,
   "metadata": {},
   "outputs": [],
   "source": [
    "def felicitar(año): \n",
    "    año_str=str(año) #añadimos una variable para poder usar el año como string \n",
    "    while len(set(año_str))!= 4: #ya que es string podemos usar funciones de string como set y len\n",
    "        año+= 1                  #pero necesitamos que sea int para poder sumar 1 \n",
    "        año_str=str(año)            #convertimos a string otra vez para que empiece de nuevo la búsqueda en caso de que no cumpla la condición\n",
    "    return (año)\n",
    "        "
   ]
  },
  {
   "cell_type": "code",
   "execution_count": 4,
   "metadata": {},
   "outputs": [
    {
     "data": {
      "text/plain": [
       "7801"
      ]
     },
     "execution_count": 4,
     "metadata": {},
     "output_type": "execute_result"
    }
   ],
   "source": [
    "felicitar(7712)\n"
   ]
  },
  {
   "cell_type": "code",
   "execution_count": null,
   "metadata": {},
   "outputs": [],
   "source": [
    "#3 \n",
    "# Tenéis que crear un función que chequee la vida de un evaporador que contiene un gas.\n",
    "#Conocemos el contenido del evaporador (contenido en ml), el porcentaje de gas que se pierde \n",
    "# cada día y el umbral en porcentaje a partir del cual el evaporador deja de ser útil. \n",
    "# Todos los números serán estrictamente positivos.\n",
    "#⚠️ Nota: el contenido no es, de hecho, necesario en el cuerpo de la función, podéis utilizarlo o no."
   ]
  },
  {
   "cell_type": "code",
   "execution_count": null,
   "metadata": {},
   "outputs": [],
   "source": [
    "#Probad con los siguientes casos: \n",
    "\n",
    "10, 10, 5 => 29 \n",
    "\n",
    "10, 10, 10 = > 22"
   ]
  },
  {
   "cell_type": "code",
   "execution_count": 11,
   "metadata": {},
   "outputs": [],
   "source": [
    "umbral= 10\n",
    "evap_dia= 10\n",
    "contenido= 10"
   ]
  },
  {
   "cell_type": "code",
   "execution_count": 12,
   "metadata": {},
   "outputs": [],
   "source": [
    "dias= 0"
   ]
  },
  {
   "cell_type": "code",
   "execution_count": 13,
   "metadata": {},
   "outputs": [
    {
     "data": {
      "text/plain": [
       "1.0"
      ]
     },
     "execution_count": 13,
     "metadata": {},
     "output_type": "execute_result"
    }
   ],
   "source": [
    "umbral_ml=(umbral*contenido)/100    #regla de 3 para sacar el porcentaje\n",
    "umbral_ml                           #esto sería la condicion de parada, apartir de aquí se deja de sumar días\n"
   ]
  },
  {
   "cell_type": "code",
   "execution_count": 14,
   "metadata": {},
   "outputs": [
    {
     "name": "stdout",
     "output_type": "stream",
     "text": [
      "22\n"
     ]
    }
   ],
   "source": [
    "while contenido>= umbral_ml:\n",
    "    pierdo=(contenido*evap_dia)/100\n",
    "    contenido-= pierdo\n",
    "    dias+=1\n",
    "print(dias)"
   ]
  },
  {
   "cell_type": "code",
   "execution_count": null,
   "metadata": {},
   "outputs": [],
   "source": [
    "#4 Definid una función que tome como argumento un entero y devuelva True o False \n",
    "# dependiendo de si el número es primo o no.\n",
    "#Según la Wikipedia, un número primo es un número natural mayor que 1 que no tiene \n",
    "#divisores positivos más que 1 y él mismo.\n"
   ]
  },
  {
   "cell_type": "code",
   "execution_count": null,
   "metadata": {},
   "outputs": [],
   "source": [
    "#Probad la función con los siguientes números: \n",
    "\n",
    "0 => False\n",
    "2 => True\n",
    "73 => True\n",
    "-1 => False\n",
    "5099 => True"
   ]
  },
  {
   "cell_type": "code",
   "execution_count": 22,
   "metadata": {},
   "outputs": [],
   "source": [
    "def es_primo (numero):\n",
    "    if numero <=1: #por definición si el número es negativo o 0, no es primo\n",
    "        return False\n",
    "    elif numero==2: # el 2 es primo porque puede dividirse por 1 y por 2, respectivamente\n",
    "        return True\n",
    "    else:\n",
    "        for i in range(2,numero): #generamos un rango para iterar desde el 2 hasta el número que ingresemos\n",
    "            if numero%i==0: # si el número dividido entre 2 da como resultado 0, entonces no es primo\n",
    "                return False \n",
    "            else:\n",
    "                return True"
   ]
  },
  {
   "cell_type": "code",
   "execution_count": 23,
   "metadata": {},
   "outputs": [
    {
     "data": {
      "text/plain": [
       "True"
      ]
     },
     "execution_count": 23,
     "metadata": {},
     "output_type": "execute_result"
    }
   ],
   "source": [
    "es_primo(5099)"
   ]
  },
  {
   "cell_type": "code",
   "execution_count": null,
   "metadata": {},
   "outputs": [],
   "source": [
    "#5\n",
    "# Probablemente conozcais el sistema de \"me gusta\" de Facebook y otras páginas.\n",
    "# La gente puede dar \"me gusta\" a las publicaciones del blog, a las imágenes o a otros elementos. \n",
    "# Queremos crear el texto que debe mostrarse junto a dicho elemento.\n",
    "#Cread una función que toma una lista que contiene los nombres de las personas a las que les gusta un artículo.\n",
    "# Debe devolver el texto que se muestra en los ejemplos:\n"
   ]
  },
  {
   "cell_type": "code",
   "execution_count": null,
   "metadata": {},
   "outputs": [],
   "source": [
    "#Probad los siguientes ejemplos: \n",
    "\n",
    "[]                              -->  \"A nadie le gusta esto\"\n",
    "[\"Paola\"]                       -->  \"A Peter le gusta esto\"\n",
    "[\"Jacoba\", \"Alex\"]               -->  \"A Jacob y Alex les gusta esto\"\n",
    "[\"Maria\", \"Juana\", \"Lola\"]         -->  \"A Max, John y Mark les gusta esto\"\n",
    "[\"Alex\", \"Jacoba\", \"Lola\", \"Carmen\"]-->  \"A Alex, Jacob y 2 más les gusta esto\"\n",
    "[\"Alex\", \"Jacoba\", \"Lola\", \"Carmen\", \"Mariana\"]-->  \"A Alex, Jacoba y 3 más les gusta esto\""
   ]
  },
  {
   "cell_type": "code",
   "execution_count": 14,
   "metadata": {},
   "outputs": [],
   "source": [
    "def likes(lista_nombres):\n",
    "    if len(lista_nombres)==0: #se usa la función len porque es una lista y necesitamos contar los elementos de dentro\n",
    "        response=\"A nadie le gusta esto\"\n",
    "    elif len(lista_nombres)== 1: \n",
    "        response= f\"A {lista_nombres[0]} le gusta esto\" #cero para acceder al elemento 1 de la lista\n",
    "    elif len(lista_nombres)==2:\n",
    "        response= f\"A {lista_nombres[0]} y {lista_nombres[1]} les gusta esto\"\n",
    "    elif len(lista_nombres)== 3:\n",
    "        response= f\"A {lista_nombres[0]}, {lista_nombres[1]} y {lista_nombres[2]} les gusta esto\"\n",
    "    elif len(lista_nombres)>3:\n",
    "        response= f\"A {lista_nombres[0]}, {lista_nombres[1]} y \"+str(len(lista_nombres)-2) + \" más les gusta esto\"  #convertimos a str porque no nos dejaría sumar un int \n",
    "    return response\n",
    "\n",
    "\n",
    "\n",
    "    \n",
    "\n",
    "\n",
    "\n",
    "\n",
    "    "
   ]
  },
  {
   "cell_type": "code",
   "execution_count": 13,
   "metadata": {},
   "outputs": [
    {
     "data": {
      "text/plain": [
       "'A Alex, Jacoba y 3 más les gusta esto'"
      ]
     },
     "execution_count": 13,
     "metadata": {},
     "output_type": "execute_result"
    }
   ],
   "source": [
    "likes([\"Alex\", \"Jacoba\", \"Lola\", \"Carmen\", \"Mariana\"])"
   ]
  }
 ],
 "metadata": {
  "kernelspec": {
   "display_name": "Python 3.8.9 64-bit",
   "language": "python",
   "name": "python3"
  },
  "language_info": {
   "codemirror_mode": {
    "name": "ipython",
    "version": 3
   },
   "file_extension": ".py",
   "mimetype": "text/x-python",
   "name": "python",
   "nbconvert_exporter": "python",
   "pygments_lexer": "ipython3",
   "version": "3.8.9"
  },
  "orig_nbformat": 4,
  "vscode": {
   "interpreter": {
    "hash": "31f2aee4e71d21fbe5cf8b01ff0e069b9275f58929596ceb00d14d90e3e16cd6"
   }
  }
 },
 "nbformat": 4,
 "nbformat_minor": 2
}
