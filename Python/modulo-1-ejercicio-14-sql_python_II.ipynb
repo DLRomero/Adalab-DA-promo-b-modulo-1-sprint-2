{
 "cells": [
  {
   "cell_type": "code",
   "execution_count": null,
   "metadata": {},
   "outputs": [],
   "source": [
    "#PYTHON + SQL II"
   ]
  },
  {
   "cell_type": "code",
   "execution_count": 1,
   "metadata": {},
   "outputs": [
    {
     "name": "stdout",
     "output_type": "stream",
     "text": [
      "MySQLCursor: CREATE DATABASE mi_primerita_BBDD_Python\n"
     ]
    }
   ],
   "source": [
    "# 📌 NOTA Cambiad el nombre de la BBDD a mi_primerita_BBDD_Python\n",
    "\n",
    "import mysql.connector\n",
    "\n",
    "cnx = mysql.connector.connect(user='root', password='AlumnaAdalab',\n",
    "                              host='127.0.0.1')\n",
    "\n",
    "\n",
    "mycursor = cnx.cursor()\n",
    "try:\n",
    "    mycursor.execute(\"CREATE DATABASE mi_primerita_BBDD_Python\")\n",
    "    print(mycursor)\n",
    "except mysql.connector.Error as err:\n",
    "    print(err)\n",
    "    print(\"Error Code:\", err.errno)\n",
    "    print(\"SQLSTATE\", err.sqlstate)\n",
    "    print(\"Message\", err.msg)"
   ]
  },
  {
   "cell_type": "code",
   "execution_count": null,
   "metadata": {},
   "outputs": [],
   "source": [
    "# 📌 NOTA Cuando creeis las distintas tablas de vuestra BBDD repetereis la mismas lineas de código una y otra vez.\n",
    "# Para evitar esto, crearos una función que nos sirva para crear tablas independientemente del contenido de la \n",
    "# tabla. La función recibirá como parámetros:\n",
    "# Contraseña de la conexión al servidor.\n",
    "# Query para crear la tabla."
   ]
  },
  {
   "cell_type": "code",
   "execution_count": 2,
   "metadata": {},
   "outputs": [],
   "source": [
    "def crear_tabla(contraseña,query):\n",
    "    import mysql.connector\n",
    "\n",
    "    cnx = mysql.connector.connect(user='root', password=contraseña,\n",
    "                                host='127.0.0.1', database='mi_primerita_BBDD_Python')\n",
    "\n",
    "\n",
    "    mycursor = cnx.cursor()\n",
    "    try:\n",
    "        mycursor.execute(query)\n",
    "        print(mycursor)\n",
    "    except mysql.connector.Error as err:\n",
    "        print(err)\n",
    "        print(\"Error Code:\", err.errno)\n",
    "        print(\"SQLSTATE\", err.sqlstate)\n",
    "        print(\"Message\", err.msg)"
   ]
  },
  {
   "cell_type": "code",
   "execution_count": 3,
   "metadata": {},
   "outputs": [
    {
     "name": "stdout",
     "output_type": "stream",
     "text": [
      "MySQLCursor: CREATE TABLE zapatillas(id_zapatillas IN..\n"
     ]
    }
   ],
   "source": [
    "# Tabla Zapatillas: tiene 4 columnas: id, modelo, color, talla con las siguientes características:\n",
    "# idZapatillas: es una clave primaria de tipo int, autoincremental y no nula.\n",
    "# Modelo: es una cadena de caracteres de longitud máxima de 45 caracteres, no nula.\n",
    "# Color: es una cadena de caracteres de longitud máxima de 45 caracteres, no nula.\n",
    "# Talla: es entero, no nula.\n",
    "\n",
    "crear_tabla('AlumnaAdalab','CREATE TABLE zapatillas(id_zapatillas INT AUTO_INCREMENT NOT NULL, modelo VARCHAR(45) NOT NULL, color VARCHAR(45) NOT NULL, PRIMARY KEY(id_zapatillas));')"
   ]
  },
  {
   "cell_type": "code",
   "execution_count": 4,
   "metadata": {},
   "outputs": [
    {
     "name": "stdout",
     "output_type": "stream",
     "text": [
      "MySQLCursor: CREATE TABLE clientes(\n",
      "\tid_cliente INT A..\n"
     ]
    }
   ],
   "source": [
    "# Tabla Clientes: tiene 9 columnas idcliente, nombre, numero_telefono, email, direccion, ciudad, provincia, pais, codigo_postal con las siguientes características:\n",
    "# # idEmpleado: es una clave primaria de tipo int, autoincremental y no nula.\n",
    "# # Nombre: es una cadena de caracteres de longitud máxima de 45 caracteres, no nula.\n",
    "# # Numero_telefono: es un entero de longitud máxima de 9 caracteres, no nula.\n",
    "# # Email: es una cadena de caracteres de longitud máxima de 45 caracteres, no nula.\n",
    "# # Direccion: es una cadena de caracteres de longitud máxima de 45 caracteres, no nula.\n",
    "# # Ciudad: es una cadena de caracteres de longitud máxima de 45 caracteres, puede ser nula.\n",
    "# # Provincia: es una cadena de caracteres de longitud máxima de 45 caracteres, no nula.\n",
    "# # Pais: es una cadena de caracteres de longitud máxima de 45 caracteres, no nula.\n",
    "# # Codigo_postal: entero de máxima longitud 9, no nula.\n",
    "\n",
    "\n",
    "crear_tabla('AlumnaAdalab',\"\"\"CREATE TABLE clientes(\n",
    "\tid_cliente INT AUTO_INCREMENT NOT NULL PRIMARY KEY,\n",
    "    nombre VARCHAR(45) NOT NULL,\n",
    "    numero_telefono INT(9) NOT NULL,\n",
    "    email VARCHAR(45) NOT NULL,\n",
    "    direccion VARCHAR(45) NOT NULL,\n",
    "    ciudad VARCHAR(45) DEFAULT NULL,\n",
    "    provincia VARCHAR(45) NOT NULL,\n",
    "    pais VARCHAR(45) NOT NULL,\n",
    "    codigo_postal VARCHAR(45) NOT NULL\n",
    "    );\"\"\")"
   ]
  },
  {
   "cell_type": "code",
   "execution_count": 5,
   "metadata": {},
   "outputs": [
    {
     "name": "stdout",
     "output_type": "stream",
     "text": [
      "MySQLCursor: CREATE TABLE empleados(\n",
      "\tid_empleados IN..\n"
     ]
    }
   ],
   "source": [
    "# Tabla Empleados: tiene 5 columnas idEmpleado, nombre, tienda, salario, fecha_incorporacion con las siguientes características:\n",
    "# # idEmpleado: es una clave primaria de tipo int, autoincremental y no nula.\n",
    "# # Nombre: es una cadena de caracteres de longitud máxima de 45 caracteres, no nula.\n",
    "# # Tienda: es una cadena de caracteres de longitud máxima de 45 caracteres, no nula.\n",
    "# # salario: es decimal, puede ser nula.\n",
    "# # fecha_incorporacion: es una columna de tipo date, no nula.\n",
    "\n",
    "crear_tabla('AlumnaAdalab',\"\"\"CREATE TABLE empleados(\n",
    "\tid_empleados INT AUTO_INCREMENT NOT NULL,\n",
    "    nombre VARCHAR(45) NOT NULL,\n",
    "    tienda VARCHAR(45) NOT NULL,\n",
    "    salario INT DEFAULT NULL,\n",
    "    fecha_incorporacion DATE NOT NULL,\n",
    "    PRIMARY KEY (id_empleados)\n",
    "    );\"\"\")"
   ]
  },
  {
   "cell_type": "code",
   "execution_count": 7,
   "metadata": {},
   "outputs": [
    {
     "name": "stdout",
     "output_type": "stream",
     "text": [
      "MySQLCursor: CREATE TABLE facturas(\n",
      "\tid_factura INT A..\n"
     ]
    }
   ],
   "source": [
    "# Tabla Facturas: tiene 5 columnas idFactura, idEmpleado, idCliente, fecha, total con las siguientes características:\n",
    "# # idFactura: es una clave primaria de tipo int, autoincremental y no nula.\n",
    "# # idEmpleado: es una clave foránea de tipo int, no nula.\n",
    "# # idCliente: es una clave foránea de tipo int, no nula.\n",
    "# # idZapatilla: es una clave foránea de tipo int, no nula\n",
    "# # Fecha: es una columna de tipo date, no nula.\n",
    "# # Total: es decimal, no nula.\n",
    "\n",
    "crear_tabla('AlumnaAdalab', \"\"\"CREATE TABLE facturas(\n",
    "\tid_factura INT AUTO_INCREMENT NOT NULL,\n",
    "    numero_factura VARCHAR(45) NOT NULL,\n",
    "    fecha DATE NOT NULL,\n",
    "    id_zapatillas INT NOT NULL,\n",
    "    id_empleados INT NOT NULL,\n",
    "    id_cliente INT NOT NULL,\n",
    "    PRIMARY KEY (id_factura),\n",
    "\tCONSTRAINT `fk_facturas_zapatillas`\n",
    "\t\tFOREIGN KEY (`id_zapatillas`)\n",
    "\t\tREFERENCES `zapatillas` (id_zapatillas) ON DELETE CASCADE ON UPDATE CASCADE,\n",
    "\tCONSTRAINT `fk_facturas_empleados`\n",
    "\t\tFOREIGN KEY (`id_empleados`)\n",
    "\t\tREFERENCES `empleados` (id_empleados) ON DELETE CASCADE ON UPDATE CASCADE,\n",
    "\tCONSTRAINT `fk_facturas_clientes`\n",
    "\t\tFOREIGN KEY (`id_cliente`)\n",
    "\t\tREFERENCES `clientes` (id_cliente) ON DELETE CASCADE ON UPDATE CASCADE\n",
    "\t);\"\"\")"
   ]
  }
 ],
 "metadata": {
  "kernelspec": {
   "display_name": "Python 3.9.7 ('base')",
   "language": "python",
   "name": "python3"
  },
  "language_info": {
   "codemirror_mode": {
    "name": "ipython",
    "version": 3
   },
   "file_extension": ".py",
   "mimetype": "text/x-python",
   "name": "python",
   "nbconvert_exporter": "python",
   "pygments_lexer": "ipython3",
   "version": "3.9.7"
  },
  "orig_nbformat": 4,
  "vscode": {
   "interpreter": {
    "hash": "bab9de067d915f107d1ee2ee6fc66eaa4419a4d622bcbfdabd1c6ae75445c121"
   }
  }
 },
 "nbformat": 4,
 "nbformat_minor": 2
}
