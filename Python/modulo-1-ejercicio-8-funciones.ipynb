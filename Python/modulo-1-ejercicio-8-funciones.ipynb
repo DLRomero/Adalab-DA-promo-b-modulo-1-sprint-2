{
 "cells": [
  {
   "cell_type": "code",
   "execution_count": 1,
   "metadata": {},
   "outputs": [],
   "source": [
    "#1. Cread una función que reciba 2 números enteros en forma de string como entrada, y dé como resultado la suma (también en forma de string)\n",
    "#Condiciones:\n",
    "#Si los dos parámetros que recibe la función son strings vacíos la función nos debe devolver \"0\"\n",
    "#Si el primer parámetro es un string vacío, la función nos devuelve el valor del segundo parámetro y viceversa.\n",
    "#Probad la función para las siguientes combinaciones de \"números\"\n",
    "\n",
    "#\"4\",  \"5\" --> \"9\"\n",
    "#\"34\", \"5\" --> \"39\"\n",
    "#\"\", \"\" --> \"0\"\n",
    "#\"2\", \"\" --> \"2\"\n",
    "#\"-5\", \"3\" --> \"-2\""
   ]
  },
  {
   "cell_type": "code",
   "execution_count": 34,
   "metadata": {},
   "outputs": [],
   "source": [
    "def sumar(a,b):\n",
    "   \n",
    "    suma=int(a)+int(b) #empezamos por convertir los str en int para poder utilizarlos como int\n",
    "    suma= str(suma)       #definimos fuera para poder utilizarlas dentro, convertimos a str para que se ponga como str el resultado\n",
    "    if a== (\"\") and b == (\"\"): #si los str están vacíos, entonces sumarán 0\n",
    "        a = 0\n",
    "        b = 0\n",
    "        suma=int(a)+int(b)\n",
    "        suma= str(suma)\n",
    "    elif a == (\"\"):  #si solo 1 de los str está vacío sólo ese sumará cero\n",
    "        a = 0\n",
    "        suma=int(a)+int(b)\n",
    "        suma= str(suma)\n",
    "    elif b == (\"\"):\n",
    "        b = 0\n",
    "        suma=int(a)+int(b)\n",
    "        suma= str(suma)\n",
    "\n",
    "    return str(suma)"
   ]
  },
  {
   "cell_type": "code",
   "execution_count": 35,
   "metadata": {},
   "outputs": [
    {
     "data": {
      "text/plain": [
       "'-2'"
      ]
     },
     "execution_count": 35,
     "metadata": {},
     "output_type": "execute_result"
    }
   ],
   "source": [
    "sumar(\"-5\",\"3\")"
   ]
  },
  {
   "cell_type": "code",
   "execution_count": null,
   "metadata": {},
   "outputs": [],
   "source": [
    "#El objetivo es comparar cada par de enteros de 2 listas, y devolver una nueva lista con el número mayor de la comapración..\n",
    "#Probad la función para las siguientes listas: \n",
    "\n",
    "#arr1 = [13, 64, 15, 17, 88]\n",
    "#arr2 = [23, 14, 53, 17, 80]\n",
    "#resultado = [23, 64, 53, 17, 88]\n",
    "#💡 Pista 💡 En Python existe el método zip."
   ]
  },
  {
   "cell_type": "code",
   "execution_count": 47,
   "metadata": {},
   "outputs": [],
   "source": [
    "lista1 = [13, 64, 15, 17, 88]\n",
    "lista2 = [23, 14, 53, 17, 80]"
   ]
  },
  {
   "cell_type": "code",
   "execution_count": 46,
   "metadata": {},
   "outputs": [
    {
     "data": {
      "text/plain": [
       "[(13, 23), (64, 14), (15, 53), (17, 17), (88, 80)]"
      ]
     },
     "execution_count": 46,
     "metadata": {},
     "output_type": "execute_result"
    }
   ],
   "source": [
    "lista_tuplas=list(zip(lista1,lista2)) \n",
    "lista_tuplas"
   ]
  },
  {
   "cell_type": "code",
   "execution_count": 43,
   "metadata": {},
   "outputs": [],
   "source": [
    "\n",
    "def numero_mayor():\n",
    "    lista_tuplas=list(zip(lista1,lista2)) #primero hacemos una lista de tuplas para poder iterar por ambos números\n",
    "    lista_numero_mayor=[]\n",
    "\n",
    "    for i in lista_tuplas:\n",
    "        if i[0] > i[1]:     \n",
    "            lista_numero_mayor.append(i[0]) #si el primer número de la tupla es mayor que el otro se agrega a lista_numero_mayor\n",
    "        elif i[0] < i[1]:\n",
    "            lista_numero_mayor.append(i[1]) #si el segundo número de la tupla es mayor, se agrega a la lista\n",
    "    return lista_numero_mayor #devolviendo una lista con los números mayores encontrados en la iteracion\n",
    "\n"
   ]
  },
  {
   "cell_type": "code",
   "execution_count": 44,
   "metadata": {},
   "outputs": [
    {
     "data": {
      "text/plain": [
       "[23, 64, 53, 88]"
      ]
     },
     "execution_count": 44,
     "metadata": {},
     "output_type": "execute_result"
    }
   ],
   "source": [
    "numero_mayor()"
   ]
  },
  {
   "cell_type": "code",
   "execution_count": null,
   "metadata": {},
   "outputs": [],
   "source": [
    "#El objetivo de este ejercicio es convertir un string en un nuevo string en el que cada carácter \n",
    "# del nuevo string es \"(\" si ese carácter aparece sólo una vez en el string original, o \")\" \n",
    "# si ese carácter aparece más de una vez en el string. \n",
    "# Nuestro código no tiene que ser case sensitive, es decir, \n",
    "# si hay una letra en mayúscula y en minúscula cuenta como dos apariciones."
   ]
  },
  {
   "cell_type": "code",
   "execution_count": null,
   "metadata": {},
   "outputs": [],
   "source": [
    "Probad la función para los siguientes strings \n",
    "\n",
    "\"din\"      =>  \"(((\"\n",
    "\"recede\"   =>  \"()()()\"\n",
    "\"Success\"  =>  \")())())\"\n",
    "\"(( @\"     =>  \"))((\" \n",
    "\"Ocvl@GamFLAFkixkS\" => \"((()(()()))))(()(\""
   ]
  },
  {
   "cell_type": "code",
   "execution_count": 28,
   "metadata": {},
   "outputs": [],
   "source": [
    "palabra=\"Success\"\n",
    "palabra= palabra.lower() #pasamos la palabra a minúsculas para poder identificar las letras repetidas\n",
    "palabra\n",
    "\n",
    "nuevo=\"\" #variable vacía para que como resultado del bucle for se vayan agregando los paréntesis\n",
    "\n",
    "for i in palabra:           #iteramos por cada elemento de la palabra\n",
    "    if palabra.count(i)==1:  #si un elemento está solo 1 vez, agregaremos un (\n",
    "        nuevo+=\"(\"\n",
    "    else:                   #si el elemento está más de 1 vez, entonces se agregará un )\n",
    "       nuevo+= \")\""
   ]
  },
  {
   "cell_type": "code",
   "execution_count": 29,
   "metadata": {},
   "outputs": [
    {
     "data": {
      "text/plain": [
       "')())())'"
      ]
     },
     "execution_count": 29,
     "metadata": {},
     "output_type": "execute_result"
    }
   ],
   "source": [
    "nuevo"
   ]
  }
 ],
 "metadata": {
  "kernelspec": {
   "display_name": "Python 3.8.9 64-bit",
   "language": "python",
   "name": "python3"
  },
  "language_info": {
   "codemirror_mode": {
    "name": "ipython",
    "version": 3
   },
   "file_extension": ".py",
   "mimetype": "text/x-python",
   "name": "python",
   "nbconvert_exporter": "python",
   "pygments_lexer": "ipython3",
   "version": "3.8.9"
  },
  "orig_nbformat": 4,
  "vscode": {
   "interpreter": {
    "hash": "31f2aee4e71d21fbe5cf8b01ff0e069b9275f58929596ceb00d14d90e3e16cd6"
   }
  }
 },
 "nbformat": 4,
 "nbformat_minor": 2
}
